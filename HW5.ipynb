{
 "cells": [
  {
   "cell_type": "code",
   "execution_count": 1,
   "metadata": {
    "collapsed": false
   },
   "outputs": [],
   "source": [
    "import numpy as np\n",
    "import sympy as sp\n",
    "import math\n",
    "\n",
    "import interpolate_exp_cos as p1\n",
    "import plot_sin_eps as p2\n",
    "import integrate_exp as p3\n",
    "import diff_functions as p4\n",
    "\n",
    "import matplotlib.pyplot as plt\n",
    "\n",
    "# Needed only in Jupyter to render properly in-notebook\n",
    "%matplotlib inline"
   ]
  },
  {
   "cell_type": "markdown",
   "metadata": {
    "collapsed": false
   },
   "source": [
    "# Homework 5\n",
    "\n",
    "## Chinmai Raman\n",
    "\n",
    "### 3/18/2016\n",
    "\n",
    "### B.1 Interpolating a discrete function\n",
    "\n",
    "Part 1:"
   ]
  },
  {
   "cell_type": "code",
   "execution_count": 3,
   "metadata": {
    "collapsed": false,
    "scrolled": true
   },
   "outputs": [
    {
     "data": {
      "text/plain": [
       "-0.77671500104510183"
      ]
     },
     "execution_count": 3,
     "metadata": {},
     "output_type": "execute_result"
    }
   ],
   "source": [
    "p1.f(-.45)"
   ]
  },
  {
   "cell_type": "code",
   "execution_count": 2,
   "metadata": {
    "collapsed": false
   },
   "outputs": [
    {
     "data": {
      "text/plain": [
       "-0.93597357483441579"
      ]
     },
     "execution_count": 2,
     "metadata": {},
     "output_type": "execute_result"
    }
   ],
   "source": [
    "p1.S_k(-1, 1, -.45, 10)"
   ]
  },
  {
   "cell_type": "markdown",
   "metadata": {},
   "source": [
    "Part 2:"
   ]
  },
  {
   "cell_type": "markdown",
   "metadata": {},
   "source": [
    "Value of function f(x) = $e^(-x^2) * cos(2\\pi x)$ at x = -0.45 :"
   ]
  },
  {
   "cell_type": "markdown",
   "metadata": {},
   "source": [
    "### q = 2"
   ]
  },
  {
   "cell_type": "code",
   "execution_count": 2,
   "metadata": {
    "collapsed": false,
    "scrolled": true
   },
   "outputs": [
    {
     "data": {
      "text/plain": [
       "-0.77671500104510183"
      ]
     },
     "execution_count": 2,
     "metadata": {},
     "output_type": "execute_result"
    }
   ],
   "source": [
    "p1.f(-.45)"
   ]
  },
  {
   "cell_type": "code",
   "execution_count": 3,
   "metadata": {
    "collapsed": false
   },
   "outputs": [
    {
     "data": {
      "text/plain": [
       "1.284454251472851"
      ]
     },
     "execution_count": 3,
     "metadata": {},
     "output_type": "execute_result"
    }
   ],
   "source": [
    "p1.S_k(-1, 1, -.45, 2)"
   ]
  },
  {
   "cell_type": "markdown",
   "metadata": {},
   "source": [
    "Error in approximation at q = 2:"
   ]
  },
  {
   "cell_type": "code",
   "execution_count": 4,
   "metadata": {
    "collapsed": false
   },
   "outputs": [
    {
     "data": {
      "text/plain": [
       "2.0611692525179528"
      ]
     },
     "execution_count": 4,
     "metadata": {},
     "output_type": "execute_result"
    }
   ],
   "source": [
    "p1.error(-1, 1, -.45, 2)"
   ]
  },
  {
   "cell_type": "markdown",
   "metadata": {},
   "source": [
    "### q = 4"
   ]
  },
  {
   "cell_type": "code",
   "execution_count": 5,
   "metadata": {
    "collapsed": false
   },
   "outputs": [
    {
     "data": {
      "text/plain": [
       "2.6009207047642646"
      ]
     },
     "execution_count": 5,
     "metadata": {},
     "output_type": "execute_result"
    }
   ],
   "source": [
    "p1.S_k(-1, 1, -.45, 4)"
   ]
  },
  {
   "cell_type": "markdown",
   "metadata": {},
   "source": [
    "Error in approximation at q = 4:"
   ]
  },
  {
   "cell_type": "code",
   "execution_count": 6,
   "metadata": {
    "collapsed": false
   },
   "outputs": [
    {
     "data": {
      "text/plain": [
       "3.3776357058093662"
      ]
     },
     "execution_count": 6,
     "metadata": {},
     "output_type": "execute_result"
    }
   ],
   "source": [
    "p1.error(-1, 1, -.45, 4)"
   ]
  },
  {
   "cell_type": "markdown",
   "metadata": {},
   "source": [
    "### q = 8"
   ]
  },
  {
   "cell_type": "code",
   "execution_count": 9,
   "metadata": {
    "collapsed": false
   },
   "outputs": [
    {
     "data": {
      "text/plain": [
       "-0.79999999999999982"
      ]
     },
     "execution_count": 9,
     "metadata": {},
     "output_type": "execute_result"
    }
   ],
   "source": [
    "p1.S_k(-1, 1, -.45, 8)"
   ]
  },
  {
   "cell_type": "markdown",
   "metadata": {},
   "source": [
    "Error in approximation at q = 8:"
   ]
  },
  {
   "cell_type": "code",
   "execution_count": 8,
   "metadata": {
    "collapsed": false
   },
   "outputs": [
    {
     "data": {
      "text/plain": [
       "0.023284998954897995"
      ]
     },
     "execution_count": 8,
     "metadata": {},
     "output_type": "execute_result"
    }
   ],
   "source": [
    "p1.error(-1, 1, -.45, 8)"
   ]
  },
  {
   "cell_type": "markdown",
   "metadata": {},
   "source": [
    "### q= 16"
   ]
  },
  {
   "cell_type": "code",
   "execution_count": 10,
   "metadata": {
    "collapsed": false
   },
   "outputs": [
    {
     "data": {
      "text/plain": [
       "-0.98295202860868525"
      ]
     },
     "execution_count": 10,
     "metadata": {},
     "output_type": "execute_result"
    }
   ],
   "source": [
    "p1.S_k(-1, 1, -.45, 16)"
   ]
  },
  {
   "cell_type": "markdown",
   "metadata": {},
   "source": [
    "Error in approximation at q = 16:"
   ]
  },
  {
   "cell_type": "code",
   "execution_count": 13,
   "metadata": {
    "collapsed": false
   },
   "outputs": [
    {
     "data": {
      "text/plain": [
       "0.20623702756358342"
      ]
     },
     "execution_count": 13,
     "metadata": {},
     "output_type": "execute_result"
    }
   ],
   "source": [
    "p1.error(-1, 1, -.45, 16)"
   ]
  },
  {
   "cell_type": "markdown",
   "metadata": {},
   "source": [
    "### B.2 Studying a function for different parameter values\n",
    "\n",
    "$f(x) = sin\\dfrac{1}{x+eps}$ in [0,1]"
   ]
  },
  {
   "cell_type": "code",
   "execution_count": 2,
   "metadata": {
    "collapsed": false
   },
   "outputs": [
    {
     "data": {
      "image/png": "[encoded data removed]",
      "text/plain": [
       "<matplotlib.figure.Figure at 0x7fb12c17b4d0>"
      ]
     },
     "metadata": {},
     "output_type": "display_data"
    }
   ],
   "source": [
    "p2.sin_graph(0.2, 10)"
   ]
  },
  {
   "cell_type": "code",
   "execution_count": 2,
   "metadata": {
    "collapsed": false
   },
   "outputs": [
    {
     "data": {
      "image/png": "[encoded data removed]",
      "text/plain": [
       "<matplotlib.figure.Figure at 0x7fa632fbd4d0>"
      ]
     },
     "metadata": {},
     "output_type": "display_data"
    }
   ],
   "source": [
    "p2.multigraph(0.2, 10)"
   ]
  },
  {
   "cell_type": "markdown",
   "metadata": {},
   "source": [
    "How large n needs to be in order for the difference between the max of the function $f(x) = sin\\dfrac{1}{x+eps}$ in [0,1] using n nodes and n+10 nodes to be less than 0.1:"
   ]
  },
  {
   "cell_type": "code",
   "execution_count": 2,
   "metadata": {
    "collapsed": false
   },
   "outputs": [
    {
     "data": {
      "text/plain": [
       "3"
      ]
     },
     "execution_count": 2,
     "metadata": {},
     "output_type": "execute_result"
    }
   ],
   "source": [
    "p2.choose_n(0.2)"
   ]
  },
  {
   "cell_type": "code",
   "execution_count": 3,
   "metadata": {
    "collapsed": false
   },
   "outputs": [
    {
     "data": {
      "text/plain": [
       "3"
      ]
     },
     "execution_count": 3,
     "metadata": {},
     "output_type": "execute_result"
    }
   ],
   "source": [
    "p2.choose_n(0.1)"
   ]
  },
  {
   "cell_type": "code",
   "execution_count": 4,
   "metadata": {
    "collapsed": false
   },
   "outputs": [
    {
     "data": {
      "text/plain": [
       "1"
      ]
     },
     "execution_count": 4,
     "metadata": {},
     "output_type": "execute_result"
    }
   ],
   "source": [
    "p2.choose_n(0.05)"
   ]
  },
  {
   "cell_type": "markdown",
   "metadata": {},
   "source": [
    "n = 200 * eps (for an epsilon of 0.2). Increasing n further does not change the plot so that it is visible on the screen."
   ]
  },
  {
   "cell_type": "code",
   "execution_count": 8,
   "metadata": {
    "collapsed": false
   },
   "outputs": [
    {
     "data": {
      "image/png": "[encoded data removed]",
      "text/plain": [
       "<matplotlib.figure.Figure at 0x7f7da0970d90>"
      ]
     },
     "metadata": {},
     "output_type": "display_data"
    }
   ],
   "source": [
    "p2.multigraph(0.2, 40)"
   ]
  },
  {
   "cell_type": "markdown",
   "metadata": {
    "collapsed": true
   },
   "source": [
    "### B.6 Using the trapezoid method to approximate integrals"
   ]
  },
  {
   "cell_type": "code",
   "execution_count": 2,
   "metadata": {
    "collapsed": false
   },
   "outputs": [
    {
     "data": {
      "image/png": "[encoded data removed]",
      "text/plain": [
       "<matplotlib.figure.Figure at 0x7f75cddea650>"
      ]
     },
     "metadata": {},
     "output_type": "display_data"
    }
   ],
   "source": [
    "p3.graph()"
   ]
  },
  {
   "cell_type": "markdown",
   "metadata": {},
   "source": [
    "The plot is symmetric over the y-axis. Therefore the integral of the function from -$\\infty$ to $\\infty$ will be the same as twice the integral of the function from 0 to $\\infty$"
   ]
  },
  {
   "cell_type": "code",
   "execution_count": 3,
   "metadata": {
    "collapsed": false
   },
   "outputs": [
    {
     "data": {
      "text/plain": [
       "1.7370047738874057"
      ]
     },
     "execution_count": 3,
     "metadata": {},
     "output_type": "execute_result"
    }
   ],
   "source": [
    "p3.T(100, 10)"
   ]
  },
  {
   "cell_type": "code",
   "execution_count": 5,
   "metadata": {
    "collapsed": false
   },
   "outputs": [
    {
     "data": {
      "text/plain": [
       "1.7370047738874057"
      ]
     },
     "execution_count": 5,
     "metadata": {},
     "output_type": "execute_result"
    }
   ],
   "source": [
    "p3.trap(100, 10) * 2"
   ]
  },
  {
   "cell_type": "markdown",
   "metadata": {},
   "source": [
    "$$\\int_{-L}^{L} {e}^{-x^2} dx = 2\\int_{0}^{L} {e}^{-x^2} dx$$"
   ]
  },
  {
   "cell_type": "code",
   "execution_count": 4,
   "metadata": {
    "collapsed": false
   },
   "outputs": [
    {
     "data": {
      "text/html": [
       "<div>\n",
       "<table border=\"1\" class=\"dataframe\">\n",
       "  <thead>\n",
       "    <tr style=\"text-align: right;\">\n",
       "      <th></th>\n",
       "      <th>L = 2</th>\n",
       "      <th>L = 4</th>\n",
       "      <th>L = 6</th>\n",
       "      <th>L = 8</th>\n",
       "      <th>L = 10</th>\n",
       "    </tr>\n",
       "  </thead>\n",
       "  <tbody>\n",
       "    <tr>\n",
       "      <th>n = 100</th>\n",
       "      <td>1.729607</td>\n",
       "      <td>1.737005</td>\n",
       "      <td>1.737005</td>\n",
       "      <td>1.737005</td>\n",
       "      <td>1.737005</td>\n",
       "    </tr>\n",
       "    <tr>\n",
       "      <th>n = 200</th>\n",
       "      <td>1.746886</td>\n",
       "      <td>1.754729</td>\n",
       "      <td>1.754729</td>\n",
       "      <td>1.754729</td>\n",
       "      <td>1.754729</td>\n",
       "    </tr>\n",
       "    <tr>\n",
       "      <th>n = 300</th>\n",
       "      <td>1.752645</td>\n",
       "      <td>1.760637</td>\n",
       "      <td>1.760637</td>\n",
       "      <td>1.760637</td>\n",
       "      <td>1.760637</td>\n",
       "    </tr>\n",
       "    <tr>\n",
       "      <th>n = 400</th>\n",
       "      <td>1.755525</td>\n",
       "      <td>1.763592</td>\n",
       "      <td>1.763592</td>\n",
       "      <td>1.763592</td>\n",
       "      <td>1.763592</td>\n",
       "    </tr>\n",
       "    <tr>\n",
       "      <th>n = 500</th>\n",
       "      <td>1.757252</td>\n",
       "      <td>1.765364</td>\n",
       "      <td>1.765364</td>\n",
       "      <td>1.765364</td>\n",
       "      <td>1.765364</td>\n",
       "    </tr>\n",
       "  </tbody>\n",
       "</table>\n",
       "</div>"
      ],
      "text/plain": [
       "            L = 2     L = 4     L = 6     L = 8    L = 10\n",
       "n = 100  1.729607  1.737005  1.737005  1.737005  1.737005\n",
       "n = 200  1.746886  1.754729  1.754729  1.754729  1.754729\n",
       "n = 300  1.752645  1.760637  1.760637  1.760637  1.760637\n",
       "n = 400  1.755525  1.763592  1.763592  1.763592  1.763592\n",
       "n = 500  1.757252  1.765364  1.765364  1.765364  1.765364"
      ]
     },
     "execution_count": 4,
     "metadata": {},
     "output_type": "execute_result"
    }
   ],
   "source": [
    "p3.table()"
   ]
  },
  {
   "cell_type": "code",
   "execution_count": 5,
   "metadata": {
    "collapsed": false
   },
   "outputs": [
    {
     "data": {
      "text/html": [
       "<div>\n",
       "<table border=\"1\" class=\"dataframe\">\n",
       "  <thead>\n",
       "    <tr style=\"text-align: right;\">\n",
       "      <th></th>\n",
       "      <th>L = 2</th>\n",
       "      <th>L = 4</th>\n",
       "      <th>L = 6</th>\n",
       "      <th>L = 8</th>\n",
       "      <th>L = 10</th>\n",
       "    </tr>\n",
       "  </thead>\n",
       "  <tbody>\n",
       "    <tr>\n",
       "      <th>n = 100</th>\n",
       "      <td>-0.042847</td>\n",
       "      <td>-0.035449</td>\n",
       "      <td>-0.035449</td>\n",
       "      <td>-0.035449</td>\n",
       "      <td>-0.035449</td>\n",
       "    </tr>\n",
       "    <tr>\n",
       "      <th>n = 200</th>\n",
       "      <td>-0.025568</td>\n",
       "      <td>-0.017725</td>\n",
       "      <td>-0.017725</td>\n",
       "      <td>-0.017725</td>\n",
       "      <td>-0.017725</td>\n",
       "    </tr>\n",
       "    <tr>\n",
       "      <th>n = 300</th>\n",
       "      <td>-0.019808</td>\n",
       "      <td>-0.011816</td>\n",
       "      <td>-0.011816</td>\n",
       "      <td>-0.011816</td>\n",
       "      <td>-0.011816</td>\n",
       "    </tr>\n",
       "    <tr>\n",
       "      <th>n = 400</th>\n",
       "      <td>-0.016929</td>\n",
       "      <td>-0.008862</td>\n",
       "      <td>-0.008862</td>\n",
       "      <td>-0.008862</td>\n",
       "      <td>-0.008862</td>\n",
       "    </tr>\n",
       "    <tr>\n",
       "      <th>n = 500</th>\n",
       "      <td>-0.015201</td>\n",
       "      <td>-0.007090</td>\n",
       "      <td>-0.007090</td>\n",
       "      <td>-0.007090</td>\n",
       "      <td>-0.007090</td>\n",
       "    </tr>\n",
       "  </tbody>\n",
       "</table>\n",
       "</div>"
      ],
      "text/plain": [
       "            L = 2     L = 4     L = 6     L = 8    L = 10\n",
       "n = 100 -0.042847 -0.035449 -0.035449 -0.035449 -0.035449\n",
       "n = 200 -0.025568 -0.017725 -0.017725 -0.017725 -0.017725\n",
       "n = 300 -0.019808 -0.011816 -0.011816 -0.011816 -0.011816\n",
       "n = 400 -0.016929 -0.008862 -0.008862 -0.008862 -0.008862\n",
       "n = 500 -0.015201 -0.007090 -0.007090 -0.007090 -0.007090"
      ]
     },
     "execution_count": 5,
     "metadata": {},
     "output_type": "execute_result"
    }
   ],
   "source": [
    "p3.error()"
   ]
  },
  {
   "cell_type": "markdown",
   "metadata": {
    "collapsed": true
   },
   "source": [
    "The error decreases as n increases and as L increases"
   ]
  },
  {
   "cell_type": "markdown",
   "metadata": {},
   "source": [
    "### B.8 Plotting functions and their derivatives"
   ]
  },
  {
   "cell_type": "markdown",
   "metadata": {},
   "source": [
    "$$f'(x)={\\dfrac{1}{x+\\dfrac{1}{100}}}$$"
   ]
  },
  {
   "cell_type": "code",
   "execution_count": 2,
   "metadata": {
    "collapsed": false
   },
   "outputs": [
    {
     "data": {
      "image/png": "[encoded data removed]",
      "text/plain": [
       "<matplotlib.figure.Figure at 0x7f275e796510>"
      ]
     },
     "metadata": {},
     "output_type": "display_data"
    }
   ],
   "source": [
    "p4.graph(p4.diff(p4.f, 1/1000, 1, 100))"
   ]
  },
  {
   "cell_type": "code",
   "execution_count": 2,
   "metadata": {
    "collapsed": false
   },
   "outputs": [
    {
     "data": {
      "image/png": "[encoded data removed]",
      "text/plain": [
       "<matplotlib.figure.Figure at 0x7f08431be510>"
      ]
     },
     "metadata": {},
     "output_type": "display_data"
    }
   ],
   "source": [
    "p4.multigraph(p4.diff(p4.f, 1/1000, 1, 100), p4.fprime)"
   ]
  },
  {
   "cell_type": "markdown",
   "metadata": {},
   "source": [
    "$$g'(x)-10{e}^{10x}sin({e}^{10x})$$"
   ]
  },
  {
   "cell_type": "code",
   "execution_count": 3,
   "metadata": {
    "collapsed": false
   },
   "outputs": [
    {
     "data": {
      "image/png": "[encoded data removed]",
      "text/plain": [
       "<matplotlib.figure.Figure at 0x7f27240f42d0>"
      ]
     },
     "metadata": {},
     "output_type": "display_data"
    }
   ],
   "source": [
    "p4.graph(p4.diff(p4.g, 1/1000, 1, 100))"
   ]
  },
  {
   "cell_type": "code",
   "execution_count": 5,
   "metadata": {
    "collapsed": false
   },
   "outputs": [
    {
     "data": {
      "image/png": "[encoded data removed]",
      "text/plain": [
       "<matplotlib.figure.Figure at 0x7f0808a12490>"
      ]
     },
     "metadata": {},
     "output_type": "display_data"
    }
   ],
   "source": [
    "p4.multigraph(p4.diff(p4.g, 1/1000, 1, 100), p4.gprime)"
   ]
  },
  {
   "cell_type": "markdown",
   "metadata": {},
   "source": [
    "$$h'(x)=(ln x)x^x+xx^{x-1}$$"
   ]
  },
  {
   "cell_type": "code",
   "execution_count": 4,
   "metadata": {
    "collapsed": false
   },
   "outputs": [
    {
     "data": {
      "image/png": "[encoded data removed]",
      "text/plain": [
       "<matplotlib.figure.Figure at 0x7f272418f510>"
      ]
     },
     "metadata": {},
     "output_type": "display_data"
    }
   ],
   "source": [
    "p4.graph(p4.diff(p4.h, 1/1000, 1, 100))"
   ]
  },
  {
   "cell_type": "code",
   "execution_count": 6,
   "metadata": {
    "collapsed": false
   },
   "outputs": [
    {
     "data": {
      "image/png": "[encoded data removed]",
      "text/plain": [
       "<matplotlib.figure.Figure at 0x7f08089f5550>"
      ]
     },
     "metadata": {},
     "output_type": "display_data"
    }
   ],
   "source": [
    "p4.multigraph(p4.diff(p4.h, 1/1000, 1, 100), p4.hprime)"
   ]
  },
  {
   "cell_type": "markdown",
   "metadata": {},
   "source": [
    "For the functions f(x) and h(x), an n of 100 seems to be sufficient as to make the graphs of the analytical and discrete derivatives visibly indistinguishable. For g(x), however, it is unlikely that any value of n will make the graphs indistinguishable upon superimposition, as the slope of g(x) as x -> 1 approaches very high values."
   ]
  },
  {
   "cell_type": "code",
   "execution_count": null,
   "metadata": {
    "collapsed": true
   },
   "outputs": [],
   "source": []
  }
 ],
 "metadata": {
  "kernelspec": {
   "display_name": "Python 2 (SageMath)",
   "language": "python",
   "name": "python2"
  },
  "language_info": {
   "codemirror_mode": {
    "name": "ipython",
    "version": 2
   },
   "file_extension": ".py",
   "mimetype": "text/x-python",
   "name": "python",
   "nbconvert_exporter": "python",
   "pygments_lexer": "ipython2",
   "version": "2.7.10"
  },
  "name": "HW5.ipynb"
 },
 "nbformat": 4,
 "nbformat_minor": 0
}
